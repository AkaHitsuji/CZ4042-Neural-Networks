{
 "cells": [
  {
   "cell_type": "code",
   "execution_count": 2,
   "metadata": {
    "collapsed": false
   },
   "outputs": [
    {
     "name": "stdout",
     "output_type": "stream",
     "text": [
      "iter 0: accuracy 0.508\n",
      "iter 100: accuracy 0.508\n",
      "iter 200: accuracy 0.508\n",
      "iter 300: accuracy 0.508\n",
      "iter 400: accuracy 0.508\n",
      "iter 500: accuracy 0.681\n",
      "iter 600: accuracy 0.69\n",
      "iter 700: accuracy 0.704\n",
      "iter 800: accuracy 0.705\n",
      "iter 900: accuracy 0.708\n"
     ]
    },
    {
     "data": {
      "image/png": "[encoded data removed]",
      "text/plain": [
       "<matplotlib.figure.Figure at 0x11adfd320>"
      ]
     },
     "metadata": {},
     "output_type": "display_data"
    }
   ],
   "source": [
    "#\n",
    "# Project 1, Question 1A, Part 1\n",
    "#\n",
    "import math\n",
    "import tensorflow as tf\n",
    "import numpy as np\n",
    "import pylab as plt\n",
    "\n",
    "\n",
    "# scale data\n",
    "def scale(X, X_min, X_max):\n",
    "    return (X - X_min)/(X_max-X_min)\n",
    "\n",
    "NUM_FEATURES = 36\n",
    "NUM_CLASSES = 6\n",
    "\n",
    "learning_rate = 0.01\n",
    "epochs = 1000\n",
    "batch_size = 32\n",
    "num_neurons = 10\n",
    "seed = 10\n",
    "np.random.seed(seed)\n",
    "\n",
    "#read train data\n",
    "train_input = np.loadtxt('../provided files/sat_train.txt',delimiter=' ')\n",
    "trainX, train_Y = train_input[:,:36], train_input[:,-1].astype(int)\n",
    "trainX = scale(trainX, np.min(trainX, axis=0), np.max(trainX, axis=0))\n",
    "train_Y[train_Y == 7] = 6\n",
    "\n",
    "trainY = np.zeros((train_Y.shape[0], NUM_CLASSES))\n",
    "trainY[np.arange(train_Y.shape[0]), train_Y-1] = 1 #one hot matrix\n",
    "\n",
    "\n",
    "# experiment with small datasets\n",
    "trainX = trainX[:1000]\n",
    "trainY = trainY[:1000]\n",
    "\n",
    "n = trainX.shape[0]\n",
    "\n",
    "\n",
    "# Create the model\n",
    "x = tf.placeholder(tf.float32, [None, NUM_FEATURES])\n",
    "y_ = tf.placeholder(tf.float32, [None, NUM_CLASSES])\n",
    "\n",
    "# Build the graph for the deep net\n",
    "\n",
    "weights_h = tf.Variable(tf.truncated_normal([NUM_FEATURES,num_neurons], stddev=0.001))\n",
    "biases_h = tf.Variable(tf.zeros([num_neurons]))\n",
    "\n",
    "weights = tf.Variable(tf.truncated_normal([num_neurons, NUM_CLASSES], stddev=1.0/math.sqrt(float(NUM_FEATURES))), name='weights')\n",
    "biases  = tf.Variable(tf.zeros([NUM_CLASSES]), name='biases')\n",
    "\n",
    "h = tf.nn.relu(tf.matmul(x, weights_h) + biases_h)\n",
    "logits = tf.matmul(h, weights) + biases\n",
    "\n",
    "ridge_loss = tf.nn.softmax_cross_entropy_with_logits_v2(labels=y_, logits=logits)\n",
    "ridge_param = tf.constant(0.000001)\n",
    "regularization = tf.nn.l2_loss(weights) + tf.nn.l2_loss(weights_h)\n",
    "loss = tf.reduce_mean(ridge_loss + ridge_param*regularization)\n",
    "\n",
    "# Create the gradient descent optimizer with the given learning rate.\n",
    "optimizer = tf.train.GradientDescentOptimizer(learning_rate)\n",
    "train_op = optimizer.minimize(loss)\n",
    "\n",
    "correct_prediction = tf.cast(tf.equal(tf.argmax(logits, 1), tf.argmax(y_, 1)), tf.float32)\n",
    "accuracy = tf.reduce_mean(correct_prediction)\n",
    "\n",
    "with tf.Session() as sess:\n",
    "    sess.run(tf.global_variables_initializer())\n",
    "    train_acc = []\n",
    "    for i in range(epochs):\n",
    "        train_op.run(feed_dict={x: trainX, y_: trainY})\n",
    "        train_acc.append(accuracy.eval(feed_dict={x: trainX, y_: trainY}))\n",
    "\n",
    "        if i % 100 == 0:\n",
    "            print('iter %d: accuracy %g'%(i, train_acc[i]))\n",
    "\n",
    "\n",
    "# plot learning curves\n",
    "plt.figure(1)\n",
    "plt.plot(range(epochs), train_acc)\n",
    "plt.xlabel(str(epochs) + ' iterations')\n",
    "plt.ylabel('Train accuracy')\n",
    "plt.show()\n"
   ]
  },
  {
   "cell_type": "code",
   "execution_count": null,
   "metadata": {
    "collapsed": true
   },
   "outputs": [],
   "source": []
  }
 ],
 "metadata": {
  "anaconda-cloud": {},
  "kernelspec": {
   "display_name": "Python [default]",
   "language": "python",
   "name": "python3"
  },
  "language_info": {
   "codemirror_mode": {
    "name": "ipython",
    "version": 3
   },
   "file_extension": ".py",
   "mimetype": "text/x-python",
   "name": "python",
   "nbconvert_exporter": "python",
   "pygments_lexer": "ipython3",
   "version": "3.5.2"
  }
 },
 "nbformat": 4,
 "nbformat_minor": 2
}
